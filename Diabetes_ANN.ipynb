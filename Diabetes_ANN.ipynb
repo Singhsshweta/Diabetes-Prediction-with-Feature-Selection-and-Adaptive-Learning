{
  "nbformat": 4,
  "nbformat_minor": 0,
  "metadata": {
    "colab": {
      "provenance": [],
      "gpuType": "T4"
    },
    "kernelspec": {
      "name": "python3",
      "display_name": "Python 3"
    },
    "language_info": {
      "name": "python"
    },
    "accelerator": "GPU"
  },
  "cells": [
    {
      "cell_type": "markdown",
      "source": [
        "Import"
      ],
      "metadata": {
        "id": "uNwNIXiYuuG8"
      }
    },
    {
      "cell_type": "code",
      "source": [
        "import pandas as pd\n",
        "import tensorflow as tf\n",
        "from keras.models import Sequential\n",
        "from keras.layers import Dense, Dropout, BatchNormalization\n",
        "from sklearn.model_selection import train_test_split\n",
        "from sklearn.preprocessing import StandardScaler\n",
        "from keras.optimizers import Adam\n",
        "from keras.optimizers import SGD\n",
        "from keras.callbacks import EarlyStopping, ReduceLROnPlateau\n",
        "from imblearn.over_sampling import SMOTE\n",
        "from keras.callbacks import LearningRateScheduler\n",
        "from keras.regularizers import l1"
      ],
      "metadata": {
        "id": "2qrnsT8HHMhm"
      },
      "execution_count": null,
      "outputs": []
    },
    {
      "cell_type": "markdown",
      "source": [
        "Load dataset"
      ],
      "metadata": {
        "id": "KQWQO8qyzbR0"
      }
    },
    {
      "cell_type": "code",
      "source": [
        "data = pd.read_csv('/content/diabetes.csv')"
      ],
      "metadata": {
        "id": "7I0LDMKeHPhQ"
      },
      "execution_count": null,
      "outputs": []
    },
    {
      "cell_type": "code",
      "source": [
        "# from google.colab import drive\n",
        "# drive.mount('/content/drive')"
      ],
      "metadata": {
        "id": "23smUQYiy2Gv"
      },
      "execution_count": null,
      "outputs": []
    },
    {
      "cell_type": "code",
      "source": [
        "data.info()"
      ],
      "metadata": {
        "colab": {
          "base_uri": "https://localhost:8080/"
        },
        "id": "VeCKXyL7PuMe",
        "outputId": "20a2102c-7c16-401c-ec84-7ceca8479151"
      },
      "execution_count": null,
      "outputs": [
        {
          "output_type": "stream",
          "name": "stdout",
          "text": [
            "<class 'pandas.core.frame.DataFrame'>\n",
            "RangeIndex: 768 entries, 0 to 767\n",
            "Data columns (total 9 columns):\n",
            " #   Column                    Non-Null Count  Dtype  \n",
            "---  ------                    --------------  -----  \n",
            " 0   Pregnancies               768 non-null    int64  \n",
            " 1   Glucose                   768 non-null    int64  \n",
            " 2   BloodPressure             768 non-null    int64  \n",
            " 3   SkinThickness             768 non-null    int64  \n",
            " 4   Insulin                   768 non-null    int64  \n",
            " 5   BMI                       768 non-null    float64\n",
            " 6   DiabetesPedigreeFunction  768 non-null    float64\n",
            " 7   Age                       768 non-null    int64  \n",
            " 8   Outcome                   768 non-null    int64  \n",
            "dtypes: float64(2), int64(7)\n",
            "memory usage: 54.1 KB\n"
          ]
        }
      ]
    },
    {
      "cell_type": "code",
      "source": [
        "correlation_matrix = data.corr()\n",
        "correlation_matrix\n",
        "# Display the correlation values between features and 'Glucose'\n",
        "correlation_with_glucose = correlation_matrix['Outcome'].sort_values(ascending=False)\n",
        "print(correlation_with_glucose)"
      ],
      "metadata": {
        "colab": {
          "base_uri": "https://localhost:8080/"
        },
        "id": "zrlZNaRzPwIJ",
        "outputId": "769387a2-e7b8-4d68-f70b-543d56bf9aef"
      },
      "execution_count": null,
      "outputs": [
        {
          "output_type": "stream",
          "name": "stdout",
          "text": [
            "Outcome                     1.000000\n",
            "Glucose                     0.466581\n",
            "BMI                         0.292695\n",
            "Age                         0.238356\n",
            "Pregnancies                 0.221898\n",
            "DiabetesPedigreeFunction    0.173844\n",
            "Insulin                     0.130548\n",
            "SkinThickness               0.074752\n",
            "BloodPressure               0.065068\n",
            "Name: Outcome, dtype: float64\n"
          ]
        }
      ]
    },
    {
      "cell_type": "code",
      "source": [
        "correlation_threshold = 0.22\n",
        "selected_features = correlation_with_glucose[abs(correlation_with_glucose) >= correlation_threshold].index\n",
        "data_selected = data[selected_features]\n",
        "print(data_selected.head())\n"
      ],
      "metadata": {
        "colab": {
          "base_uri": "https://localhost:8080/"
        },
        "id": "rttZyB60QMRx",
        "outputId": "0c00933b-d652-4485-8c7e-e0f83ee8add2"
      },
      "execution_count": null,
      "outputs": [
        {
          "output_type": "stream",
          "name": "stdout",
          "text": [
            "   Outcome  Glucose   BMI  Age  Pregnancies\n",
            "0        1      148  33.6   50            6\n",
            "1        0       85  26.6   31            1\n",
            "2        1      183  23.3   32            8\n",
            "3        0       89  28.1   21            1\n",
            "4        1      137  43.1   33            0\n"
          ]
        }
      ]
    },
    {
      "cell_type": "code",
      "source": [
        "features = data_selected.drop('Outcome',axis=1)\n",
        "target = data_selected['Outcome']"
      ],
      "metadata": {
        "id": "BlRu9rkcaDli"
      },
      "execution_count": null,
      "outputs": []
    },
    {
      "cell_type": "code",
      "source": [
        "scaler = StandardScaler()\n",
        "X_normalized = scaler.fit_transform(features)\n",
        "#X_normalized = scaler.fit_transform(data_selected)"
      ],
      "metadata": {
        "id": "hQT-aUgfIqvp"
      },
      "execution_count": null,
      "outputs": []
    },
    {
      "cell_type": "code",
      "source": [
        "X_train,X_test,y_train, y_test = train_test_split(X_normalized,target,test_size=0.15,random_state =200)\n"
      ],
      "metadata": {
        "id": "kZGAJM6OHTDr"
      },
      "execution_count": null,
      "outputs": []
    },
    {
      "cell_type": "code",
      "source": [
        "oversampler = SMOTE(random_state=200)\n",
        "X_train_oversampled, y_train_oversampled = oversampler.fit_resample(X_train, y_train)"
      ],
      "metadata": {
        "id": "stFmo2VrToEx"
      },
      "execution_count": null,
      "outputs": []
    },
    {
      "cell_type": "markdown",
      "source": [
        "Build Model"
      ],
      "metadata": {
        "id": "W3IVS9u6zjci"
      }
    },
    {
      "cell_type": "code",
      "source": [
        "# model = Sequential([\n",
        "#     Dense(64, activation='relu', input_shape=(8,)),\n",
        "#     BatchNormalization(),\n",
        "#     Dropout(0.3),\n",
        "#     Dense(32, activation='relu'),\n",
        "#     Dropout(0.3),\n",
        "#     Dense(16, activation='relu'),\n",
        "#     Dropout(0.3),\n",
        "#     Dense(1, activation='sigmoid')\n",
        "# ])\n",
        "# model.summary()"
      ],
      "metadata": {
        "id": "Ehjacg8qA18C"
      },
      "execution_count": null,
      "outputs": []
    },
    {
      "cell_type": "code",
      "source": [
        "model = Sequential([\n",
        "    Dense(128, activation=\"relu\", input_shape=(X_train.shape[1],), kernel_regularizer=l1(0.001)),\n",
        "    BatchNormalization(),\n",
        "    #Dropout(0.25),\n",
        "    Dense(64, activation=\"relu\"),\n",
        "    Dropout(0.25),\n",
        "    Dense(32, activation=\"relu\"),\n",
        "    Dense(16, activation=\"relu\"),\n",
        "    BatchNormalization(),\n",
        "    Dense(1, activation=\"sigmoid\")\n",
        "])\n",
        "model.summary()"
      ],
      "metadata": {
        "colab": {
          "base_uri": "https://localhost:8080/"
        },
        "id": "9T6wtX3kFkii",
        "outputId": "da415cd5-160d-4a11-ffac-131056c56e6c"
      },
      "execution_count": null,
      "outputs": [
        {
          "output_type": "stream",
          "name": "stdout",
          "text": [
            "Model: \"sequential_3\"\n",
            "_________________________________________________________________\n",
            " Layer (type)                Output Shape              Param #   \n",
            "=================================================================\n",
            " dense_15 (Dense)            (None, 128)               640       \n",
            "                                                                 \n",
            " batch_normalization_6 (Bat  (None, 128)               512       \n",
            " chNormalization)                                                \n",
            "                                                                 \n",
            " dense_16 (Dense)            (None, 64)                8256      \n",
            "                                                                 \n",
            " dropout_3 (Dropout)         (None, 64)                0         \n",
            "                                                                 \n",
            " dense_17 (Dense)            (None, 32)                2080      \n",
            "                                                                 \n",
            " dense_18 (Dense)            (None, 16)                528       \n",
            "                                                                 \n",
            " batch_normalization_7 (Bat  (None, 16)                64        \n",
            " chNormalization)                                                \n",
            "                                                                 \n",
            " dense_19 (Dense)            (None, 1)                 17        \n",
            "                                                                 \n",
            "=================================================================\n",
            "Total params: 12097 (47.25 KB)\n",
            "Trainable params: 11809 (46.13 KB)\n",
            "Non-trainable params: 288 (1.12 KB)\n",
            "_________________________________________________________________\n"
          ]
        }
      ]
    },
    {
      "cell_type": "code",
      "source": [
        "# initial_learning_rate = 0.00001\n",
        "# lr_schedule = tf.keras.optimizers.schedules.ExponentialDecay(\n",
        "#     initial_learning_rate,\n",
        "#     decay_steps=1000,\n",
        "#     decay_rate=0.95,\n",
        "#     staircase=True)"
      ],
      "metadata": {
        "id": "6s7fkm2qHdt-"
      },
      "execution_count": null,
      "outputs": []
    },
    {
      "cell_type": "code",
      "source": [
        "optimizer = Adam(learning_rate=0.001)\n",
        "model.compile(loss='binary_crossentropy', optimizer=optimizer, metrics=['accuracy'])\n"
      ],
      "metadata": {
        "id": "UAhwXln7HlzR"
      },
      "execution_count": null,
      "outputs": []
    },
    {
      "cell_type": "code",
      "source": [
        "def scheduler(epoch,learning_rate):\n",
        "  if epoch<40:\n",
        "    return 0.005\n",
        "  learning_rate *= .993\n",
        "  return learning_rate\n",
        "lr_scheduler = LearningRateScheduler(scheduler)"
      ],
      "metadata": {
        "id": "h2TRB5CqTgaW"
      },
      "execution_count": null,
      "outputs": []
    },
    {
      "cell_type": "code",
      "source": [
        "es = EarlyStopping(monitor='val_loss', patience=10, restore_best_weights=True)"
      ],
      "metadata": {
        "id": "KP7asz6nL1fg"
      },
      "execution_count": null,
      "outputs": []
    },
    {
      "cell_type": "code",
      "source": [
        "history = model.fit(X_train, y_train, epochs=200, batch_size=40, validation_split=0.18, verbose=1, callbacks=[lr_scheduler,es])"
      ],
      "metadata": {
        "colab": {
          "base_uri": "https://localhost:8080/"
        },
        "id": "vyJtnocOAp9x",
        "outputId": "a3953912-3741-4e2c-b861-c0b2a6a767d4"
      },
      "execution_count": null,
      "outputs": [
        {
          "output_type": "stream",
          "name": "stdout",
          "text": [
            "Epoch 1/200\n",
            "14/14 [==============================] - 2s 25ms/step - loss: 0.7378 - accuracy: 0.6798 - val_loss: 0.6745 - val_accuracy: 0.6864 - lr: 0.0050\n",
            "Epoch 2/200\n",
            "14/14 [==============================] - 0s 5ms/step - loss: 0.5556 - accuracy: 0.7734 - val_loss: 0.6559 - val_accuracy: 0.6780 - lr: 0.0050\n",
            "Epoch 3/200\n",
            "14/14 [==============================] - 0s 6ms/step - loss: 0.5326 - accuracy: 0.7622 - val_loss: 0.6590 - val_accuracy: 0.6271 - lr: 0.0050\n",
            "Epoch 4/200\n",
            "14/14 [==============================] - 0s 7ms/step - loss: 0.5066 - accuracy: 0.7678 - val_loss: 0.6732 - val_accuracy: 0.6356 - lr: 0.0050\n",
            "Epoch 5/200\n",
            "14/14 [==============================] - 0s 5ms/step - loss: 0.5240 - accuracy: 0.7622 - val_loss: 0.6605 - val_accuracy: 0.6102 - lr: 0.0050\n",
            "Epoch 6/200\n",
            "14/14 [==============================] - 0s 5ms/step - loss: 0.4982 - accuracy: 0.7547 - val_loss: 0.6510 - val_accuracy: 0.6271 - lr: 0.0050\n",
            "Epoch 7/200\n",
            "14/14 [==============================] - 0s 5ms/step - loss: 0.5191 - accuracy: 0.7790 - val_loss: 0.6599 - val_accuracy: 0.6102 - lr: 0.0050\n",
            "Epoch 8/200\n",
            "14/14 [==============================] - 0s 6ms/step - loss: 0.4975 - accuracy: 0.7884 - val_loss: 0.6804 - val_accuracy: 0.5847 - lr: 0.0050\n",
            "Epoch 9/200\n",
            "14/14 [==============================] - 0s 5ms/step - loss: 0.4911 - accuracy: 0.7790 - val_loss: 0.6643 - val_accuracy: 0.6102 - lr: 0.0050\n",
            "Epoch 10/200\n",
            "14/14 [==============================] - 0s 6ms/step - loss: 0.4911 - accuracy: 0.7603 - val_loss: 0.6760 - val_accuracy: 0.5847 - lr: 0.0050\n",
            "Epoch 11/200\n",
            "14/14 [==============================] - 0s 5ms/step - loss: 0.4723 - accuracy: 0.7790 - val_loss: 0.6804 - val_accuracy: 0.6186 - lr: 0.0050\n",
            "Epoch 12/200\n",
            "14/14 [==============================] - 0s 5ms/step - loss: 0.4720 - accuracy: 0.7772 - val_loss: 0.6690 - val_accuracy: 0.6102 - lr: 0.0050\n",
            "Epoch 13/200\n",
            "14/14 [==============================] - 0s 7ms/step - loss: 0.4758 - accuracy: 0.7921 - val_loss: 0.6708 - val_accuracy: 0.6102 - lr: 0.0050\n",
            "Epoch 14/200\n",
            "14/14 [==============================] - 0s 6ms/step - loss: 0.4700 - accuracy: 0.7978 - val_loss: 0.6722 - val_accuracy: 0.6102 - lr: 0.0050\n",
            "Epoch 15/200\n",
            "14/14 [==============================] - 0s 9ms/step - loss: 0.4709 - accuracy: 0.7697 - val_loss: 0.6665 - val_accuracy: 0.6102 - lr: 0.0050\n",
            "Epoch 16/200\n",
            "14/14 [==============================] - 0s 10ms/step - loss: 0.4643 - accuracy: 0.8034 - val_loss: 0.6687 - val_accuracy: 0.6102 - lr: 0.0050\n"
          ]
        }
      ]
    },
    {
      "cell_type": "code",
      "source": [
        "model.evaluate(X_test,y_test)"
      ],
      "metadata": {
        "colab": {
          "base_uri": "https://localhost:8080/"
        },
        "id": "lA1ERHZaMuzJ",
        "outputId": "e096b23f-1a49-4b33-975f-5c6b815e9f77"
      },
      "execution_count": null,
      "outputs": [
        {
          "output_type": "stream",
          "name": "stdout",
          "text": [
            "4/4 [==============================] - 0s 3ms/step - loss: 0.5495 - accuracy: 0.7500\n"
          ]
        },
        {
          "output_type": "execute_result",
          "data": {
            "text/plain": [
              "[0.5495381355285645, 0.75]"
            ]
          },
          "metadata": {},
          "execution_count": 99
        }
      ]
    },
    {
      "cell_type": "code",
      "source": [
        "import matplotlib.pyplot as plt\n",
        "\n",
        "loss = history.history['loss']\n",
        "val_loss = history.history['val_loss']\n",
        "\n",
        "accuracy = history.history['accuracy']\n",
        "val_accuracy = history.history['val_accuracy']\n",
        "\n",
        "fig, (ax1, ax2) = plt.subplots(1, 2, figsize=(15, 5))\n",
        "ax1.plot(loss, label='Loss')\n",
        "ax1.plot(val_loss, label='Validation Loss')\n",
        "ax1.set_xlabel('Epoch')\n",
        "ax1.set_ylabel('Loss')\n",
        "ax1.legend()\n",
        "\n",
        "ax2.plot(accuracy, label='Accuracy')\n",
        "ax2.plot(val_accuracy, label='Validation Accuracy')\n",
        "ax2.set_xlabel('Epoch')\n",
        "ax2.set_ylabel('Accuracy')\n",
        "ax2.legend()\n",
        "\n",
        "plt.show()"
      ],
      "metadata": {
        "id": "Yyp97tWX9oqh",
        "colab": {
          "base_uri": "https://localhost:8080/",
          "height": 468
        },
        "outputId": "dcecad66-6169-447c-85b0-a1fa0bdcc863"
      },
      "execution_count": null,
      "outputs": [
        {
          "output_type": "display_data",
          "data": {
            "text/plain": [
              "<Figure size 1500x500 with 2 Axes>"
            ],
            "image/png": "[encoded data removed]"
          },
          "metadata": {}
        }
      ]
    }
  ]
}